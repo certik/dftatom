{
 "cells": [
  {
   "cell_type": "code",
   "execution_count": null,
   "metadata": {
    "collapsed": false
   },
   "outputs": [],
   "source": [
    "%pylab inline"
   ]
  },
  {
   "cell_type": "code",
   "execution_count": null,
   "metadata": {
    "collapsed": false
   },
   "outputs": [],
   "source": [
    "D = loadtxt(\"a.txt\", skiprows=1)\n",
    "N = D[:, 0]\n",
    "t1 = D[:, 2]\n",
    "t2 = D[:, 3]"
   ]
  },
  {
   "cell_type": "code",
   "execution_count": null,
   "metadata": {
    "collapsed": false
   },
   "outputs": [],
   "source": [
    "plot(N, t1, label=\"kernel 1\")\n",
    "plot(N, t2, label=\"kernel 2\")\n",
    "legend(loc=\"upper left\")\n",
    "grid()\n",
    "xlabel(\"N\")\n",
    "ylabel(\"time [s]\")\n",
    "title(\"Radial Poisson kernels comparison\")\n",
    "show()"
   ]
  },
  {
   "cell_type": "code",
   "execution_count": null,
   "metadata": {
    "collapsed": false
   },
   "outputs": [],
   "source": [
    "plot(N, t1/t2)\n",
    "grid()\n",
    "xlabel(\"N\")\n",
    "ylabel(\"Speedup\")\n",
    "title(\"Speedup of kernel 2 over kernel 1\")\n",
    "show()"
   ]
  },
  {
   "cell_type": "code",
   "execution_count": null,
   "metadata": {
    "collapsed": false
   },
   "outputs": [],
   "source": [
    "freq = 2.6e9*1.2\n",
    "plot(N, t1*freq/N, label=\"kernel 1\")\n",
    "plot(N, t2*freq/N, label=\"kernel 2\")\n",
    "legend()\n",
    "grid()\n",
    "xlabel(\"N\")\n",
    "ylabel(\"Cycles per element\")\n",
    "title(\"Comparison in clock cycles per loop body (array element)\")\n",
    "ylim([30, None])\n",
    "show()"
   ]
  }
 ],
 "metadata": {
  "kernelspec": {
   "display_name": "Python 2",
   "language": "python",
   "name": "python2"
  },
  "language_info": {
   "codemirror_mode": {
    "name": "ipython",
    "version": 2
   },
   "file_extension": ".py",
   "mimetype": "text/x-python",
   "name": "python",
   "nbconvert_exporter": "python",
   "pygments_lexer": "ipython2",
   "version": "2.7.11"
  }
 },
 "nbformat": 4,
 "nbformat_minor": 0
}
